{
 "cells": [
  {
   "cell_type": "markdown",
   "metadata": {},
   "source": [
    "# Project: Investigate a Dataset (No-Show Appointment)\n",
    "### Done For Udacity Data Analysis Nanodegree Program\n",
    "### By: Isra Bazzar \n",
    "\n",
    "## Table of Contents\n",
    "<ul>\n",
    "<li><a href=\"#intro\">Introduction</a></li>\n",
    "<li><a href=\"#wrangling\">Data Wrangling</a></li>\n",
    "<li><a href=\"#eda\">Exploratory Data Analysis</a></li>\n",
    "<li><a href=\"#conclusion\">Conclusion</a></li>\n",
    "\n",
    "</ul>\n"
   ]
  },
  {
   "cell_type": "markdown",
   "metadata": {},
   "source": [
    "\n",
    "<a id='intro'></a>\n",
    "## Introduction\n",
    "\n",
    "\n",
    "### Data Description\n",
    "#### No-show appointments \n",
    "> This information about Data provided by Udacity project google document for Data set suggestions, Copied here for reference.\n",
    "\n",
    "(original source on [Kaggle](https://www.google.com/url?q=https://www.kaggle.com/joniarroba/noshowappointments&sa=D&ust=1561218940583000) )\n",
    "\n",
    "*This dataset collects information from 100k medical appointments in Brazil and is focused on the question of whether or not patients show up for their appointment. A number of characteristics about the patient are included in each row.*\n",
    "\n",
    "*‘ScheduledDay’ tells us on what day the patient set up their appointment.\n",
    "<br/>‘Neighborhood’ indicates the location of the hospital.\n",
    "<br/>‘Scholarship’ indicates whether or not the patient is enrolled in Brasilian welfare program Bolsa Família.\n",
    "<br/>Be careful about the encoding of the last column: it says ‘No’ if the patient showed up to their appointment, and ‘Yes’ if they did not show up.\n",
    "<br/>\n",
    "<b>Suggested Question</b>\n",
    "What factors are important for us to know in order to predict if a patient will show up for their scheduled appointment?*\n",
    "\n",
    "In the next Cell I will do more investigation about Data to discover what questions can be asked about the Data and what conclusions can be made.\n"
   ]
  },
  {
   "cell_type": "code",
   "execution_count": 1,
   "metadata": {},
   "outputs": [
    {
     "data": {
      "text/html": [
       "<div>\n",
       "<style scoped>\n",
       "    .dataframe tbody tr th:only-of-type {\n",
       "        vertical-align: middle;\n",
       "    }\n",
       "\n",
       "    .dataframe tbody tr th {\n",
       "        vertical-align: top;\n",
       "    }\n",
       "\n",
       "    .dataframe thead th {\n",
       "        text-align: right;\n",
       "    }\n",
       "</style>\n",
       "<table border=\"1\" class=\"dataframe\">\n",
       "  <thead>\n",
       "    <tr style=\"text-align: right;\">\n",
       "      <th></th>\n",
       "      <th>PatientId</th>\n",
       "      <th>AppointmentID</th>\n",
       "      <th>Gender</th>\n",
       "      <th>ScheduledDay</th>\n",
       "      <th>AppointmentDay</th>\n",
       "      <th>Age</th>\n",
       "      <th>Neighbourhood</th>\n",
       "      <th>Scholarship</th>\n",
       "      <th>Hipertension</th>\n",
       "      <th>Diabetes</th>\n",
       "      <th>Alcoholism</th>\n",
       "      <th>Handcap</th>\n",
       "      <th>SMS_received</th>\n",
       "      <th>No-show</th>\n",
       "    </tr>\n",
       "  </thead>\n",
       "  <tbody>\n",
       "    <tr>\n",
       "      <th>0</th>\n",
       "      <td>2.987250e+13</td>\n",
       "      <td>5642903</td>\n",
       "      <td>F</td>\n",
       "      <td>2016-04-29T18:38:08Z</td>\n",
       "      <td>2016-04-29T00:00:00Z</td>\n",
       "      <td>62</td>\n",
       "      <td>JARDIM DA PENHA</td>\n",
       "      <td>0</td>\n",
       "      <td>1</td>\n",
       "      <td>0</td>\n",
       "      <td>0</td>\n",
       "      <td>0</td>\n",
       "      <td>0</td>\n",
       "      <td>No</td>\n",
       "    </tr>\n",
       "    <tr>\n",
       "      <th>1</th>\n",
       "      <td>5.589978e+14</td>\n",
       "      <td>5642503</td>\n",
       "      <td>M</td>\n",
       "      <td>2016-04-29T16:08:27Z</td>\n",
       "      <td>2016-04-29T00:00:00Z</td>\n",
       "      <td>56</td>\n",
       "      <td>JARDIM DA PENHA</td>\n",
       "      <td>0</td>\n",
       "      <td>0</td>\n",
       "      <td>0</td>\n",
       "      <td>0</td>\n",
       "      <td>0</td>\n",
       "      <td>0</td>\n",
       "      <td>No</td>\n",
       "    </tr>\n",
       "    <tr>\n",
       "      <th>2</th>\n",
       "      <td>4.262962e+12</td>\n",
       "      <td>5642549</td>\n",
       "      <td>F</td>\n",
       "      <td>2016-04-29T16:19:04Z</td>\n",
       "      <td>2016-04-29T00:00:00Z</td>\n",
       "      <td>62</td>\n",
       "      <td>MATA DA PRAIA</td>\n",
       "      <td>0</td>\n",
       "      <td>0</td>\n",
       "      <td>0</td>\n",
       "      <td>0</td>\n",
       "      <td>0</td>\n",
       "      <td>0</td>\n",
       "      <td>No</td>\n",
       "    </tr>\n",
       "    <tr>\n",
       "      <th>3</th>\n",
       "      <td>8.679512e+11</td>\n",
       "      <td>5642828</td>\n",
       "      <td>F</td>\n",
       "      <td>2016-04-29T17:29:31Z</td>\n",
       "      <td>2016-04-29T00:00:00Z</td>\n",
       "      <td>8</td>\n",
       "      <td>PONTAL DE CAMBURI</td>\n",
       "      <td>0</td>\n",
       "      <td>0</td>\n",
       "      <td>0</td>\n",
       "      <td>0</td>\n",
       "      <td>0</td>\n",
       "      <td>0</td>\n",
       "      <td>No</td>\n",
       "    </tr>\n",
       "    <tr>\n",
       "      <th>4</th>\n",
       "      <td>8.841186e+12</td>\n",
       "      <td>5642494</td>\n",
       "      <td>F</td>\n",
       "      <td>2016-04-29T16:07:23Z</td>\n",
       "      <td>2016-04-29T00:00:00Z</td>\n",
       "      <td>56</td>\n",
       "      <td>JARDIM DA PENHA</td>\n",
       "      <td>0</td>\n",
       "      <td>1</td>\n",
       "      <td>1</td>\n",
       "      <td>0</td>\n",
       "      <td>0</td>\n",
       "      <td>0</td>\n",
       "      <td>No</td>\n",
       "    </tr>\n",
       "  </tbody>\n",
       "</table>\n",
       "</div>"
      ],
      "text/plain": [
       "      PatientId  AppointmentID Gender          ScheduledDay  \\\n",
       "0  2.987250e+13        5642903      F  2016-04-29T18:38:08Z   \n",
       "1  5.589978e+14        5642503      M  2016-04-29T16:08:27Z   \n",
       "2  4.262962e+12        5642549      F  2016-04-29T16:19:04Z   \n",
       "3  8.679512e+11        5642828      F  2016-04-29T17:29:31Z   \n",
       "4  8.841186e+12        5642494      F  2016-04-29T16:07:23Z   \n",
       "\n",
       "         AppointmentDay  Age      Neighbourhood  Scholarship  Hipertension  \\\n",
       "0  2016-04-29T00:00:00Z   62    JARDIM DA PENHA            0             1   \n",
       "1  2016-04-29T00:00:00Z   56    JARDIM DA PENHA            0             0   \n",
       "2  2016-04-29T00:00:00Z   62      MATA DA PRAIA            0             0   \n",
       "3  2016-04-29T00:00:00Z    8  PONTAL DE CAMBURI            0             0   \n",
       "4  2016-04-29T00:00:00Z   56    JARDIM DA PENHA            0             1   \n",
       "\n",
       "   Diabetes  Alcoholism  Handcap  SMS_received No-show  \n",
       "0         0           0        0             0      No  \n",
       "1         0           0        0             0      No  \n",
       "2         0           0        0             0      No  \n",
       "3         0           0        0             0      No  \n",
       "4         1           0        0             0      No  "
      ]
     },
     "execution_count": 1,
     "metadata": {},
     "output_type": "execute_result"
    }
   ],
   "source": [
    "# Use this cell to set up import statements for all of the packages that you\n",
    "#   plan to use.\n",
    "\n",
    "# Remember to include a 'magic word' so that your visualizations are plotted\n",
    "#   inline with the notebook. See this page for more:\n",
    "#   http://ipython.readthedocs.io/en/stable/interactive/magics.html\n",
    "\n",
    "import pandas as pd\n",
    "import matplotlib.pyplot as plt \n",
    "import numpy as np\n",
    "import seaborn as sns\n",
    "% matplotlib inline\n",
    "sns.set_style('darkgrid')\n",
    "\n",
    "#Data file uploaded to our environment, I changed the name to noshowappointment.csv for easiness\n",
    "df = pd.read_csv('noshowappointments.csv')\n",
    "df.head()\n"
   ]
  },
  {
   "cell_type": "markdown",
   "metadata": {},
   "source": [
    "## Questions:\n",
    "1. What factors are important for us to know in order to predict if a patient will show up for their scheduled appointment?\n",
    "> Percentage of show-up will be implemented versus many features(mainly the booleans) to see if there is a significant effect of any feature can be concluded <br/> - General Features: [Gender](#gender), [Scholarship](#scholar), [Neighbourhood](#neighbour), [SMS_received](#sms)<br/> - Type Of Disease: [Diabets](#diabetes), [Hypertension](#hyper), [Alcoholism](#alcohol), [Type of Handicap](#handicap)\n",
    "\n",
    "2. Is there any relation between [age group(may be decade)](#age) and the percentage of show-up?\n",
    "> Grouping by (Age) then implementing vs. the percentage of show-up\n",
    "\n",
    "3. Does the [day of the week](#dayweek) for appointment affect the showness\n",
    "> Feature to be investigated: [AppointmentDay]  \n",
    "\n",
    "4. Does the time interval between scheduling and appointment day affect the percentage of show-up?\n",
    "> [daysInterval](#daysinterval) = ScheduledDay - AppointmentDay\n"
   ]
  },
  {
   "cell_type": "markdown",
   "metadata": {},
   "source": [
    "<a id='wrangling'></a>\n",
    "## Data Wrangling\n",
    "\n",
    "In this section I will view data and check what cleaning and trimming are needed for easier and clearer exploration and analysis.\n",
    "\n",
    "### Assessing Data\n",
    "General Data Exploration\n",
    "1. Number of rows and columns\n",
    "2. Column names and types and ideas about possible fixes\n",
    "3. Count of Non-null values for each feature\n",
    "4. Number of duplicated rows \n",
    "5. Ideas for cleaner Data "
   ]
  },
  {
   "cell_type": "code",
   "execution_count": 2,
   "metadata": {
    "scrolled": true
   },
   "outputs": [
    {
     "name": "stdout",
     "output_type": "stream",
     "text": [
      "(Rows, Columns)\n",
      "(110527, 14)\n",
      "\n",
      "Number of duplicated Rows: 0 \n",
      "\n",
      "\n",
      "Data Set Information:\n",
      "<class 'pandas.core.frame.DataFrame'>\n",
      "RangeIndex: 110527 entries, 0 to 110526\n",
      "Data columns (total 14 columns):\n",
      "PatientId         110527 non-null float64\n",
      "AppointmentID     110527 non-null int64\n",
      "Gender            110527 non-null object\n",
      "ScheduledDay      110527 non-null object\n",
      "AppointmentDay    110527 non-null object\n",
      "Age               110527 non-null int64\n",
      "Neighbourhood     110527 non-null object\n",
      "Scholarship       110527 non-null int64\n",
      "Hipertension      110527 non-null int64\n",
      "Diabetes          110527 non-null int64\n",
      "Alcoholism        110527 non-null int64\n",
      "Handcap           110527 non-null int64\n",
      "SMS_received      110527 non-null int64\n",
      "No-show           110527 non-null object\n",
      "dtypes: float64(1), int64(8), object(5)\n",
      "memory usage: 11.8+ MB\n",
      "None\n"
     ]
    }
   ],
   "source": [
    "# Number of rows and columns\n",
    "print(\"(Rows, Columns)\")\n",
    "print(df.shape)\n",
    "\n",
    "# Find Number of duplicated rows\n",
    "print(\"\\nNumber of duplicated Rows:\", sum(df.duplicated()), \"\\n\")\n",
    "\n",
    "#Information about data columns (Number of non-null values and datatypes)\n",
    "print(\"\\nData Set Information:\")\n",
    "print(df.info())\n"
   ]
  },
  {
   "cell_type": "code",
   "execution_count": 3,
   "metadata": {},
   "outputs": [
    {
     "name": "stdout",
     "output_type": "stream",
     "text": [
      "\n",
      "Column Names with Indices:\n",
      "0 PatientId\n",
      "1 AppointmentID\n",
      "2 Gender\n",
      "3 ScheduledDay\n",
      "4 AppointmentDay\n",
      "5 Age\n",
      "6 Neighbourhood\n",
      "7 Scholarship\n",
      "8 Hipertension\n",
      "9 Diabetes\n",
      "10 Alcoholism\n",
      "11 Handcap\n",
      "12 SMS_received\n",
      "13 No-show\n"
     ]
    }
   ],
   "source": [
    "#Get Indices for Columns \n",
    "print(\"\\nColumn Names with Indices:\")\n",
    "for i, v in enumerate (df.columns):\n",
    "    print(i, v)\n",
    "    "
   ]
  },
  {
   "cell_type": "code",
   "execution_count": 4,
   "metadata": {},
   "outputs": [
    {
     "name": "stdout",
     "output_type": "stream",
     "text": [
      "\n",
      "# Of Unique Values For Each Column:\n",
      "PatientId 62299\n",
      "AppointmentID 110527\n",
      "Gender 2 ['F' 'M']\n",
      "ScheduledDay 103549\n",
      "AppointmentDay 27\n",
      "Age 104\n",
      "Neighbourhood 81\n",
      "Scholarship 2 [0 1]\n",
      "Hipertension 2 [1 0]\n",
      "Diabetes 2 [0 1]\n",
      "Alcoholism 2 [0 1]\n",
      "Handcap 5 [0 1 2 3 4]\n",
      "SMS_received 2 [0 1]\n",
      "No-show 2 ['No' 'Yes']\n"
     ]
    }
   ],
   "source": [
    "#Unique Values For Each Column\n",
    "print(\"\\n# Of Unique Values For Each Column:\")\n",
    "for col in df.columns:\n",
    "    n = df[col].nunique()\n",
    "    \n",
    "    #print the unique values if nunique is less than 10\n",
    "    if(n<=10):\n",
    "        print(col, n, df[col].unique())\n",
    "    else:\n",
    "        print(col, n)"
   ]
  },
  {
   "cell_type": "markdown",
   "metadata": {},
   "source": [
    "### Columns Summary\n",
    "\n",
    "There is 14 columns in our Dataset, Described in the table below:\n",
    "<br/>\n",
    "\n",
    "| Index | Column Name | Data Type | #Of Unique Values | Notes |\n",
    "|---\t|---\t|---\t|---\t|---\t|\n",
    "|  0\t| PatientId\t| float64 \t| 62299\t| # of unique values < #of rows which means there some patients have many appointments |\n",
    "|  1\t| AppointmentID \t| int64 \t| 110527 | Change column name to AppointmentId to consist with (PatientId)|\n",
    "|  2\t| Gender \t| object \t| 2:[F,M]\t|  \t|\n",
    "|  3\t| ScheduledDay \t| object \t| 103549 \t| Change type to DateTime \t|\n",
    "|  4\t| AppointmentDay \t| object \t|  27\t| Change type to int64 > take only Day since the month is the same for all appointments > known(May 2016)\t|\n",
    "|  5\t| Age \t| int64 \t| 104 \t| Fix wrong values(minus) then group by age decade \t|\n",
    "|  6\t| Neighbourhood \t| object \t| 81 \t| \t|\n",
    "|  7\t| Scholarship\t| int64 \t| 2: [0, 1]\t|\t|\n",
    "|  8\t| Hipertension \t| int64 \t| 2: [1, 0]\t| Fix Column name Typo > Hypertension\t|\n",
    "|  9\t| Diabetes \t| int64 \t| 2: [0, 1]\t|  \t|\n",
    "|  10\t| Alcoholism \t| int64 \t| 2: [0, 1]\t|  \t|\n",
    "|  11\t| Handcap \t| int64 \t| 5: [0, 1, 2, 3, 4]\t| Fix Column name Typo > Handicap \t|\n",
    "|  12\t| SMS_received \t| int64 \t| 2: [0, 1]\t|  |\n",
    "|  13\t| No-show \t| object \t| 2: ['No' 'Yes']\t| Change column name to No_show, Change data type to int64 > No: 0 , Yes: 1|\n"
   ]
  },
  {
   "cell_type": "markdown",
   "metadata": {},
   "source": [
    "\n",
    "\n"
   ]
  },
  {
   "cell_type": "markdown",
   "metadata": {},
   "source": [
    "\n",
    "### Data Cleaning \n",
    "\n",
    "Now before we explore our Data to make conclusions, we will make some clean up and rearrangments so the exploration will be easier and clearer \n",
    "\n",
    "#### Fix Columns Names and Types\n",
    "_Please read comments included in the code cell (preceeded by # sign) to know more about each code line and it's purpose_"
   ]
  },
  {
   "cell_type": "code",
   "execution_count": 5,
   "metadata": {},
   "outputs": [
    {
     "data": {
      "text/plain": [
       "Index(['PatientId', 'AppointmentId', 'Gender', 'ScheduledDay',\n",
       "       'AppointmentDay', 'Age', 'Neighbourhood', 'Scholarship', 'Hypertension',\n",
       "       'Diabetes', 'Alcoholism', 'Handicap', 'SMS_received', 'No_show'],\n",
       "      dtype='object')"
      ]
     },
     "execution_count": 5,
     "metadata": {},
     "output_type": "execute_result"
    }
   ],
   "source": [
    "#Change columns names\n",
    "#1- Fixing Typos \n",
    "#2- Normalizing Naming Convention: No-show > No_show, AppointmentID> AppointmentId \n",
    "df.rename(columns = {'Hipertension': 'Hypertension',\n",
    "                     'Handcap': 'Handicap',\n",
    "                     'No-show':'No_show',\n",
    "                     'AppointmentID': 'AppointmentId'}, inplace = True)\n",
    "\n",
    "# Print columns headers to confirm changes\n",
    "df.columns\n",
    " "
   ]
  },
  {
   "cell_type": "markdown",
   "metadata": {},
   "source": [
    "#### Edit Age Data\n",
    "\n",
    "1- Delete rows with minus Age value (Invalid Value)\n",
    "\n",
    "2- Change Data for Age column to Age_Group, I would create new column with Age_Group Data but to minimize data no need for Age Data after grouping so I will replace it by groups, No need to change the type(int64), make 10 groups by decades as follows:  0-10 > 0, 11-20 > 1, 21-30 > 2, 31-40 > 3, 41-50 > 4, 51-60 > 5, 61-70 > 6, 71-80 > 7, 81-90 > 8, 90 and more > 9 , To do this grouping the easy way I will divide by 10 the floor cast of result will give the group number(decade number: # of tens ), then change type to int.\n",
    "<br/> Get rid of outliers:Change the numbers >= 10 to group 9 to get rid of outliers (ages >= 100)"
   ]
  },
  {
   "cell_type": "code",
   "execution_count": 6,
   "metadata": {},
   "outputs": [
    {
     "data": {
      "text/html": [
       "<div>\n",
       "<style scoped>\n",
       "    .dataframe tbody tr th:only-of-type {\n",
       "        vertical-align: middle;\n",
       "    }\n",
       "\n",
       "    .dataframe tbody tr th {\n",
       "        vertical-align: top;\n",
       "    }\n",
       "\n",
       "    .dataframe thead th {\n",
       "        text-align: right;\n",
       "    }\n",
       "</style>\n",
       "<table border=\"1\" class=\"dataframe\">\n",
       "  <thead>\n",
       "    <tr style=\"text-align: right;\">\n",
       "      <th></th>\n",
       "      <th>PatientId</th>\n",
       "      <th>AppointmentId</th>\n",
       "      <th>Gender</th>\n",
       "      <th>ScheduledDay</th>\n",
       "      <th>AppointmentDay</th>\n",
       "      <th>Age</th>\n",
       "      <th>Neighbourhood</th>\n",
       "      <th>Scholarship</th>\n",
       "      <th>Hypertension</th>\n",
       "      <th>Diabetes</th>\n",
       "      <th>Alcoholism</th>\n",
       "      <th>Handicap</th>\n",
       "      <th>SMS_received</th>\n",
       "      <th>No_show</th>\n",
       "    </tr>\n",
       "  </thead>\n",
       "  <tbody>\n",
       "    <tr>\n",
       "      <th>99832</th>\n",
       "      <td>4.659432e+14</td>\n",
       "      <td>5775010</td>\n",
       "      <td>F</td>\n",
       "      <td>2016-06-06T08:58:13Z</td>\n",
       "      <td>2016-06-06T00:00:00Z</td>\n",
       "      <td>-1</td>\n",
       "      <td>ROMÃO</td>\n",
       "      <td>0</td>\n",
       "      <td>0</td>\n",
       "      <td>0</td>\n",
       "      <td>0</td>\n",
       "      <td>0</td>\n",
       "      <td>0</td>\n",
       "      <td>No</td>\n",
       "    </tr>\n",
       "  </tbody>\n",
       "</table>\n",
       "</div>"
      ],
      "text/plain": [
       "          PatientId  AppointmentId Gender          ScheduledDay  \\\n",
       "99832  4.659432e+14        5775010      F  2016-06-06T08:58:13Z   \n",
       "\n",
       "             AppointmentDay  Age Neighbourhood  Scholarship  Hypertension  \\\n",
       "99832  2016-06-06T00:00:00Z   -1         ROMÃO            0             0   \n",
       "\n",
       "       Diabetes  Alcoholism  Handicap  SMS_received No_show  \n",
       "99832         0           0         0             0      No  "
      ]
     },
     "execution_count": 6,
     "metadata": {},
     "output_type": "execute_result"
    }
   ],
   "source": [
    "# Locate rows with Age = -1 to drop \n",
    "df.loc[df['Age'] == -1]\n",
    "       "
   ]
  },
  {
   "cell_type": "code",
   "execution_count": 7,
   "metadata": {},
   "outputs": [
    {
     "name": "stdout",
     "output_type": "stream",
     "text": [
      "Age data before grouping\n",
      " [ 62  56   8  76  23  39  21  19  30  29  22  28  54  15  50  40  46   4\n",
      "  13  65  45  51  32  12  61  38  79  18  63  64  85  59  55  71  49  78\n",
      "  31  58  27   6   2  11   7   0   3   1  69  68  60  67  36  10  35  20\n",
      "  26  34  33  16  42   5  47  17  41  44  37  24  66  77  81  70  53  75\n",
      "  73  52  74  43  89  57  14   9  48  83  72  25  80  87  88  84  82  90\n",
      "  94  86  91  98  92  96  93  95  97 102 115 100  99]\n"
     ]
    }
   ],
   "source": [
    "#Drop the only row with Age = -1, get the row index from the cell above\n",
    "df.drop([99832], inplace=True)\n",
    "\n",
    "# First lets take a look on age values in our data frame\n",
    "# Print Age data before edit\n",
    "print(\"Age data before grouping\\n\", df[\"Age\"].unique())\n",
    "  \n",
    "df[\"Age\"] = np.floor(df[\"Age\"]/10)\n",
    "df = df.astype({\"Age\": int})\n"
   ]
  },
  {
   "cell_type": "code",
   "execution_count": 8,
   "metadata": {},
   "outputs": [
    {
     "name": "stdout",
     "output_type": "stream",
     "text": [
      "Age unique values after grouping\n",
      " [6 5 0 7 2 3 1 4 8 9]\n"
     ]
    },
    {
     "data": {
      "text/plain": [
       "PatientId         float64\n",
       "AppointmentId       int64\n",
       "Gender             object\n",
       "ScheduledDay       object\n",
       "AppointmentDay     object\n",
       "AgeGroup            int64\n",
       "Neighbourhood      object\n",
       "Scholarship         int64\n",
       "Hypertension        int64\n",
       "Diabetes            int64\n",
       "Alcoholism          int64\n",
       "Handicap            int64\n",
       "SMS_received        int64\n",
       "No_show            object\n",
       "dtype: object"
      ]
     },
     "execution_count": 8,
     "metadata": {},
     "output_type": "execute_result"
    }
   ],
   "source": [
    "# Get rid of outliers, Change numbers >= 10 to 9 \n",
    "df[\"Age\"].replace({10: 9, 11: 9}, inplace = True)\n",
    "\n",
    "#Change the column name to AgeGroup to be more meaningful\n",
    "df.rename(columns = {'Age': 'AgeGroup'}, inplace = True)\n",
    "\n",
    "#Print Age unique values after grouping\n",
    "print(\"Age unique values after grouping\\n\", df[\"AgeGroup\"].unique())\n",
    "\n",
    "#Print column names and type to confirm the change\n",
    "df.dtypes"
   ]
  },
  {
   "cell_type": "markdown",
   "metadata": {},
   "source": [
    "#### Change No_show values to 1 and 0, and change type to int\n",
    "I need this change so I can take advantage of function mean() to get percentage "
   ]
  },
  {
   "cell_type": "code",
   "execution_count": 9,
   "metadata": {},
   "outputs": [
    {
     "name": "stdout",
     "output_type": "stream",
     "text": [
      "[0 1]\n"
     ]
    }
   ],
   "source": [
    "#Replace no-show No with 0 and 1 with 0 so we can take the mean value\n",
    "df['No_show'].replace({'No': 0, 'Yes': 1}, inplace = True)\n",
    "\n",
    "df = df.astype({\"No_show\": int})\n",
    "\n",
    "#Print No_show unique values to confirm change\n",
    "print(df['No_show'].unique())"
   ]
  },
  {
   "cell_type": "markdown",
   "metadata": {},
   "source": [
    "### Fix Date Columns(ScheduledDay, AppointmentDay)\n",
    "##### Change Type to datetime "
   ]
  },
  {
   "cell_type": "code",
   "execution_count": 10,
   "metadata": {},
   "outputs": [
    {
     "data": {
      "text/html": [
       "<div>\n",
       "<style scoped>\n",
       "    .dataframe tbody tr th:only-of-type {\n",
       "        vertical-align: middle;\n",
       "    }\n",
       "\n",
       "    .dataframe tbody tr th {\n",
       "        vertical-align: top;\n",
       "    }\n",
       "\n",
       "    .dataframe thead th {\n",
       "        text-align: right;\n",
       "    }\n",
       "</style>\n",
       "<table border=\"1\" class=\"dataframe\">\n",
       "  <thead>\n",
       "    <tr style=\"text-align: right;\">\n",
       "      <th></th>\n",
       "      <th>AppointmentDay</th>\n",
       "      <th>ScheduledDay</th>\n",
       "    </tr>\n",
       "  </thead>\n",
       "  <tbody>\n",
       "    <tr>\n",
       "      <th>0</th>\n",
       "      <td>2016-04-29T00:00:00Z</td>\n",
       "      <td>2016-04-29T18:38:08Z</td>\n",
       "    </tr>\n",
       "    <tr>\n",
       "      <th>1</th>\n",
       "      <td>2016-04-29T00:00:00Z</td>\n",
       "      <td>2016-04-29T16:08:27Z</td>\n",
       "    </tr>\n",
       "    <tr>\n",
       "      <th>2</th>\n",
       "      <td>2016-04-29T00:00:00Z</td>\n",
       "      <td>2016-04-29T16:19:04Z</td>\n",
       "    </tr>\n",
       "    <tr>\n",
       "      <th>3</th>\n",
       "      <td>2016-04-29T00:00:00Z</td>\n",
       "      <td>2016-04-29T17:29:31Z</td>\n",
       "    </tr>\n",
       "    <tr>\n",
       "      <th>4</th>\n",
       "      <td>2016-04-29T00:00:00Z</td>\n",
       "      <td>2016-04-29T16:07:23Z</td>\n",
       "    </tr>\n",
       "  </tbody>\n",
       "</table>\n",
       "</div>"
      ],
      "text/plain": [
       "         AppointmentDay          ScheduledDay\n",
       "0  2016-04-29T00:00:00Z  2016-04-29T18:38:08Z\n",
       "1  2016-04-29T00:00:00Z  2016-04-29T16:08:27Z\n",
       "2  2016-04-29T00:00:00Z  2016-04-29T16:19:04Z\n",
       "3  2016-04-29T00:00:00Z  2016-04-29T17:29:31Z\n",
       "4  2016-04-29T00:00:00Z  2016-04-29T16:07:23Z"
      ]
     },
     "execution_count": 10,
     "metadata": {},
     "output_type": "execute_result"
    }
   ],
   "source": [
    "# print first 5 rows with ScheduleDay and AppointmentDay \n",
    "#to see the data format before edit\n",
    "df[['AppointmentDay','ScheduledDay']].head()"
   ]
  },
  {
   "cell_type": "code",
   "execution_count": 11,
   "metadata": {},
   "outputs": [],
   "source": [
    "#Change data type to datetime\n",
    "df['ScheduledDay'] = pd.to_datetime(df['ScheduledDay'])\n",
    "df['AppointmentDay'] = pd.to_datetime(df['AppointmentDay'])"
   ]
  },
  {
   "cell_type": "code",
   "execution_count": 12,
   "metadata": {},
   "outputs": [
    {
     "data": {
      "text/html": [
       "<div>\n",
       "<style scoped>\n",
       "    .dataframe tbody tr th:only-of-type {\n",
       "        vertical-align: middle;\n",
       "    }\n",
       "\n",
       "    .dataframe tbody tr th {\n",
       "        vertical-align: top;\n",
       "    }\n",
       "\n",
       "    .dataframe thead th {\n",
       "        text-align: right;\n",
       "    }\n",
       "</style>\n",
       "<table border=\"1\" class=\"dataframe\">\n",
       "  <thead>\n",
       "    <tr style=\"text-align: right;\">\n",
       "      <th></th>\n",
       "      <th>AppointmentDay</th>\n",
       "      <th>ScheduledDay</th>\n",
       "    </tr>\n",
       "  </thead>\n",
       "  <tbody>\n",
       "    <tr>\n",
       "      <th>0</th>\n",
       "      <td>2016-04-29</td>\n",
       "      <td>2016-04-29 18:38:08</td>\n",
       "    </tr>\n",
       "    <tr>\n",
       "      <th>1</th>\n",
       "      <td>2016-04-29</td>\n",
       "      <td>2016-04-29 16:08:27</td>\n",
       "    </tr>\n",
       "    <tr>\n",
       "      <th>2</th>\n",
       "      <td>2016-04-29</td>\n",
       "      <td>2016-04-29 16:19:04</td>\n",
       "    </tr>\n",
       "    <tr>\n",
       "      <th>3</th>\n",
       "      <td>2016-04-29</td>\n",
       "      <td>2016-04-29 17:29:31</td>\n",
       "    </tr>\n",
       "    <tr>\n",
       "      <th>4</th>\n",
       "      <td>2016-04-29</td>\n",
       "      <td>2016-04-29 16:07:23</td>\n",
       "    </tr>\n",
       "  </tbody>\n",
       "</table>\n",
       "</div>"
      ],
      "text/plain": [
       "  AppointmentDay        ScheduledDay\n",
       "0     2016-04-29 2016-04-29 18:38:08\n",
       "1     2016-04-29 2016-04-29 16:08:27\n",
       "2     2016-04-29 2016-04-29 16:19:04\n",
       "3     2016-04-29 2016-04-29 17:29:31\n",
       "4     2016-04-29 2016-04-29 16:07:23"
      ]
     },
     "execution_count": 12,
     "metadata": {},
     "output_type": "execute_result"
    }
   ],
   "source": [
    "# Print date frame head(first 5 rows) to check the new formats\n",
    "df[['AppointmentDay','ScheduledDay']].head()"
   ]
  },
  {
   "cell_type": "markdown",
   "metadata": {},
   "source": [
    "#### Add new column \"dayOfWeek\"\n",
    "Which represents the day of week for each appointment date"
   ]
  },
  {
   "cell_type": "code",
   "execution_count": 13,
   "metadata": {},
   "outputs": [
    {
     "data": {
      "text/plain": [
       "array(['Friday', 'Tuesday', 'Monday', 'Wednesday', 'Thursday', 'Saturday'], dtype=object)"
      ]
     },
     "execution_count": 13,
     "metadata": {},
     "output_type": "execute_result"
    }
   ],
   "source": [
    "#Find day of week for each appointmentDay entry\n",
    "df['dayOfWeek']= df['AppointmentDay'].dt.day_name()\n",
    "\n",
    "# Print the new column dayOfColumn to confirm results\n",
    "df['dayOfWeek'].unique()"
   ]
  },
  {
   "cell_type": "markdown",
   "metadata": {},
   "source": [
    "#### Add new column \"daysInterval\"\n",
    "Which represents how many days are between the scheduled day and appointment day"
   ]
  },
  {
   "cell_type": "code",
   "execution_count": 14,
   "metadata": {},
   "outputs": [
    {
     "data": {
      "text/plain": [
       "array([  1,   2,   0,   3,   8,  28,   9,  22,  10,  17,  16,  13,  27,\n",
       "        23,  20,  14,  15,  21,  42,  29,  30,  41,  31,  55,  44,  45,\n",
       "        38,  36,  37,  43,  49,  59,  51,  52,  64,  66,  90,  65,  83,\n",
       "        77,  86, 114, 108,  62,  69,  71,  56,  57,  50,  58,  40,  48,\n",
       "        72,  63,  19,  32,  33,   5,  34,  35,  11,  12,  39,  46,   7,\n",
       "         4,   6,  24,  25,  47,  26,  18,  60,  54,  61, 175,  53,  76,\n",
       "        68,  82,  75,  88,  80, 102,  78,  67,  74,  84, 111,  79,  85,\n",
       "        97,  93, 141, 154, 161, 168, 103, 132, 124,  95,  87,  89, 150,\n",
       "       125, 126, 110, 118,  73,  70,  81, 107, 109, 101, 121, 100, 104,\n",
       "        91,  96,  92, 106,  94, 138, 131, 178, 116, 145, 122])"
      ]
     },
     "execution_count": 14,
     "metadata": {},
     "output_type": "execute_result"
    }
   ],
   "source": [
    "#Calculate how many days between scheduled and appointment day\n",
    "# Used absolute function: abs() to remove minus values if any \n",
    "df['daysInterval'] = ((df['AppointmentDay'] - df['ScheduledDay']).dt.days).abs()\n",
    "\n",
    "df['daysInterval'].unique()"
   ]
  },
  {
   "cell_type": "markdown",
   "metadata": {},
   "source": [
    "<a id='eda'></a>\n",
    "## Exploratory Data Analysis\n",
    "\n",
    " Now after cleaning and trimming data, we're ready to move on to exploration. \n",
    " \n",
    " ### Calculate percentage of show-up for all patients"
   ]
  },
  {
   "cell_type": "code",
   "execution_count": 15,
   "metadata": {},
   "outputs": [
    {
     "name": "stdout",
     "output_type": "stream",
     "text": [
      "Percentage of aapointments missed during May 2016 For all patients: 20.1934 %\n"
     ]
    }
   ],
   "source": [
    "# No_show = 0 for patient show up, No_show = 1 for patient miss the appointment \n",
    "# Proportion for missed appointments\n",
    "p_miss = df[\"No_show\"].mean()\n",
    "p_show = 1 - p_miss\n",
    " \n",
    "print(\"Percentage of aapointments missed during May 2016 For all patients:\", round(p_miss * 100 , 4) , \"%\")"
   ]
  },
  {
   "cell_type": "markdown",
   "metadata": {},
   "source": [
    "#### Pie plot to compare percentage for missed appointments vs. show-up"
   ]
  },
  {
   "cell_type": "code",
   "execution_count": 16,
   "metadata": {},
   "outputs": [
    {
     "name": "stdout",
     "output_type": "stream",
     "text": [
      "No_show\n",
      "0    88207\n",
      "1    22319\n",
      "Name: PatientId, dtype: int64\n",
      "1: Missed Appointments, 0: Show-up Appointments\n"
     ]
    },
    {
     "data": {
      "image/png": "[encoded data removed]",
      "text/plain": [
       "<matplotlib.figure.Figure at 0x7f544a18ab70>"
      ]
     },
     "metadata": {},
     "output_type": "display_data"
    }
   ],
   "source": [
    "patient_group = df.groupby('No_show')['PatientId'].count()\n",
    "print(patient_group)\n",
    "pieChart = patient_group.plot.pie(figsize=(12, 12), autopct =\"%1.1f%%\");\n",
    "pieChart.set_title(\"Missed Appointments Percentage\", fontsize = 15);\n",
    "print(\"1: Missed Appointments, 0: Show-up Appointments\")\n",
    "plt.legend();\n"
   ]
  },
  {
   "cell_type": "markdown",
   "metadata": {},
   "source": [
    "### Research question 1: What factors are important for us to know in order to predict if a patient will show up for their scheduled appointment?\n",
    "\n",
    "Percentage of show-up will be implemented versus many features(mainly the booleans) to see if there is a significant effect of any feature can be concluded\n",
    "- General Features: [Gender](#gender), [Scholarship](#scholar), [Neighbourhood](#neighbour), [SMS_received](#sms)\n",
    "\n",
    "<a id='gender'></a>\n",
    "#### Gender vs. Propotion(Missed)"
   ]
  },
  {
   "cell_type": "code",
   "execution_count": 17,
   "metadata": {},
   "outputs": [
    {
     "name": "stdout",
     "output_type": "stream",
     "text": [
      "Gender\n",
      "F    0.203149\n",
      "M    0.199679\n",
      "Name: No_show, dtype: float64\n"
     ]
    },
    {
     "data": {
      "text/plain": [
       "Text(0,0.5,'Missing appointment proportion')"
      ]
     },
     "execution_count": 17,
     "metadata": {},
     "output_type": "execute_result"
    },
    {
     "data": {
      "image/png": "[encoded data removed]",
      "text/plain": [
       "<matplotlib.figure.Figure at 0x7f54485dc6d8>"
      ]
     },
     "metadata": {
      "needs_background": "light"
     },
     "output_type": "display_data"
    }
   ],
   "source": [
    "# Gender: \n",
    "gender_groups = df.groupby('Gender')['No_show'].mean()\n",
    "print(gender_groups)\n",
    "\n",
    "gender_groups.plot(kind='bar', title='Proportion(Missed) - Gender');\n",
    "plt.xlabel('Gender')\n",
    "plt.ylabel('Missing appointment proportion')\n"
   ]
  },
  {
   "cell_type": "markdown",
   "metadata": {},
   "source": [
    "<a id='scholar'></a>\n",
    "#### Scholarship vs. proportion(missed)"
   ]
  },
  {
   "cell_type": "code",
   "execution_count": 18,
   "metadata": {},
   "outputs": [
    {
     "name": "stdout",
     "output_type": "stream",
     "text": [
      "Scholarship\n",
      "0    0.198074\n",
      "1    0.237363\n",
      "Name: No_show, dtype: float64\n"
     ]
    },
    {
     "data": {
      "text/plain": [
       "Text(0,0.5,'Missing appointment proportion')"
      ]
     },
     "execution_count": 18,
     "metadata": {},
     "output_type": "execute_result"
    },
    {
     "data": {
      "image/png": "[encoded data removed]",
      "text/plain": [
       "<matplotlib.figure.Figure at 0x7f5449281470>"
      ]
     },
     "metadata": {
      "needs_background": "light"
     },
     "output_type": "display_data"
    }
   ],
   "source": [
    "#Scholarship\n",
    "scholar_groups = df.groupby('Scholarship')['No_show'].mean()\n",
    "print(scholar_groups)\n",
    "\n",
    "scholar_groups.plot(kind='bar', title='Proportion(Missed) - Scholarship')\n",
    "plt.xlabel('Scholarship')\n",
    "plt.ylabel('Missing appointment proportion')\n",
    "\n"
   ]
  },
  {
   "cell_type": "markdown",
   "metadata": {},
   "source": [
    "      "
   ]
  },
  {
   "cell_type": "markdown",
   "metadata": {},
   "source": [
    "<a id='sms'></a>\n",
    "#### SMS_received vs. proportion(missed)"
   ]
  },
  {
   "cell_type": "code",
   "execution_count": 19,
   "metadata": {},
   "outputs": [
    {
     "name": "stdout",
     "output_type": "stream",
     "text": [
      "SMS_received\n",
      "0    0.167035\n",
      "1    0.275745\n",
      "Name: No_show, dtype: float64\n"
     ]
    },
    {
     "data": {
      "text/plain": [
       "Text(0,0.5,'Missing appointment proportion')"
      ]
     },
     "execution_count": 19,
     "metadata": {},
     "output_type": "execute_result"
    },
    {
     "data": {
      "image/png": "[encoded data removed]",
      "text/plain": [
       "<matplotlib.figure.Figure at 0x7f54491b5ac8>"
      ]
     },
     "metadata": {
      "needs_background": "light"
     },
     "output_type": "display_data"
    }
   ],
   "source": [
    "#SMS_receieved\n",
    "sms_groups = df.groupby('SMS_received')['No_show'].mean()\n",
    "print(sms_groups)\n",
    "\n",
    "sms_groups.plot(kind='bar', title='Proportion(Missed) - SMS_received')\n",
    "plt.xlabel('Scholarship')\n",
    "plt.ylabel('Missing appointment proportion')"
   ]
  },
  {
   "cell_type": "markdown",
   "metadata": {},
   "source": [
    "<a id='c1'></a>\n",
    "#### Conclusion 1.1\n",
    "About which feature could affect the proportion of missing appointment(p_miss):<br/>\n",
    "\n",
    "1- Gender: We can conclude that there is no relation since the proportion of missed appointments for both males and females are almost equals\n",
    "\n",
    "2- Scholarship: p_miss for value 1 (patient has a scholarship) is higher than others.\n",
    "\n",
    "3- SMS_received: p_miss for patients who has a message is surprisingly higher than  p_miss for those who don't, *(Hypothesis(Not proved yet): Sending message doesn't help!, Note: This is just a thought NOT a conclusion)*\n"
   ]
  },
  {
   "cell_type": "markdown",
   "metadata": {},
   "source": [
    "<a id='neighbour'></a>\n",
    "#### neighbourhood_groups vs. proportion(missed)"
   ]
  },
  {
   "cell_type": "code",
   "execution_count": 20,
   "metadata": {},
   "outputs": [
    {
     "name": "stdout",
     "output_type": "stream",
     "text": [
      "Neighbourhood\n",
      "AEROPORTO              0.125000\n",
      "ANDORINHAS             0.230327\n",
      "ANTÔNIO HONÓRIO        0.184502\n",
      "ARIOVALDO FAVALESSA    0.219858\n",
      "BARRO VERMELHO         0.215130\n",
      "BELA VISTA             0.201363\n",
      "BENTO FERREIRA         0.224942\n",
      "BOA VISTA              0.185897\n",
      "BONFIM                 0.198341\n",
      "CARATOÍRA              0.230409\n",
      "CENTRO                 0.210858\n",
      "COMDUSA                0.180645\n",
      "CONQUISTA              0.188457\n",
      "CONSOLAÇÃO             0.172238\n",
      "CRUZAMENTO             0.217454\n",
      "DA PENHA               0.193505\n",
      "DE LOURDES             0.154098\n",
      "DO CABRAL              0.157143\n",
      "DO MOSCOSO             0.222760\n",
      "DO QUADRO              0.164900\n",
      "ENSEADA DO SUÁ         0.221277\n",
      "ESTRELINHA             0.197026\n",
      "FONTE GRANDE           0.218475\n",
      "FORTE SÃO JOÃO         0.183166\n",
      "FRADINHOS              0.186047\n",
      "GOIABEIRAS             0.195714\n",
      "GRANDE VITÓRIA         0.202614\n",
      "GURIGICA               0.225966\n",
      "HORTO                  0.240000\n",
      "ILHA DAS CAIEIRAS      0.219421\n",
      "                         ...   \n",
      "PARQUE INDUSTRIAL      0.000000\n",
      "PARQUE MOSCOSO         0.223192\n",
      "PIEDADE                0.194690\n",
      "PONTAL DE CAMBURI      0.173913\n",
      "PRAIA DO CANTO         0.183575\n",
      "PRAIA DO SUÁ           0.228261\n",
      "REDENÇÃO               0.177077\n",
      "REPÚBLICA              0.171257\n",
      "RESISTÊNCIA            0.204469\n",
      "ROMÃO                  0.214092\n",
      "SANTA CECÍLIA          0.274554\n",
      "SANTA CLARA            0.264822\n",
      "SANTA HELENA           0.207865\n",
      "SANTA LUÍZA            0.179907\n",
      "SANTA LÚCIA            0.196347\n",
      "SANTA MARTHA           0.158416\n",
      "SANTA TEREZA           0.204204\n",
      "SANTO ANDRÉ            0.197588\n",
      "SANTO ANTÔNIO          0.176256\n",
      "SANTOS DUMONT          0.289185\n",
      "SANTOS REIS            0.204753\n",
      "SEGURANÇA DO LAR       0.193103\n",
      "SOLON BORGES           0.147122\n",
      "SÃO BENEDITO           0.199444\n",
      "SÃO CRISTÓVÃO          0.197712\n",
      "SÃO JOSÉ               0.216490\n",
      "SÃO PEDRO              0.210376\n",
      "TABUAZEIRO             0.182950\n",
      "UNIVERSITÁRIO          0.210526\n",
      "VILA RUBIM             0.165687\n",
      "Name: No_show, Length: 81, dtype: float64\n"
     ]
    }
   ],
   "source": [
    "#neighbourhood investigation\n",
    "neighbourhood_groups = df.groupby('Neighbourhood')['No_show'].mean()\n",
    "print(neighbourhood_groups)\n"
   ]
  },
  {
   "cell_type": "code",
   "execution_count": 21,
   "metadata": {},
   "outputs": [
    {
     "data": {
      "text/plain": [
       "Text(0,0.5,'Missing appointment proportion')"
      ]
     },
     "execution_count": 21,
     "metadata": {},
     "output_type": "execute_result"
    },
    {
     "data": {
      "image/png": "[encoded data removed]",
      "text/plain": [
       "<matplotlib.figure.Figure at 0x7f5479658e10>"
      ]
     },
     "metadata": {
      "needs_background": "light"
     },
     "output_type": "display_data"
    }
   ],
   "source": [
    "neighbourhood_groups.plot(kind='bar', title='average mean - neighbourhood', figsize=(15,8))\n",
    "plt.xlabel('Neighbourhood')\n",
    "plt.ylabel('Missing appointment proportion')"
   ]
  },
  {
   "cell_type": "markdown",
   "metadata": {},
   "source": [
    "#### Conclusion 1.2: Neigbourhood\n",
    "Looking at the plot we notice that almost all the proportions between 0.12 and 0.25, which is in my opinion is not meaningful, but their is surely something suspecious about proportion for 'ILHAS OCEANICAS DE TRINADADE' hospital, where the proprtion is 1, in other words: ALL Appointments have been missed, Let's do more investigation about this. In the next cell."
   ]
  },
  {
   "cell_type": "code",
   "execution_count": 22,
   "metadata": {},
   "outputs": [
    {
     "data": {
      "text/html": [
       "<div>\n",
       "<style scoped>\n",
       "    .dataframe tbody tr th:only-of-type {\n",
       "        vertical-align: middle;\n",
       "    }\n",
       "\n",
       "    .dataframe tbody tr th {\n",
       "        vertical-align: top;\n",
       "    }\n",
       "\n",
       "    .dataframe thead th {\n",
       "        text-align: right;\n",
       "    }\n",
       "</style>\n",
       "<table border=\"1\" class=\"dataframe\">\n",
       "  <thead>\n",
       "    <tr style=\"text-align: right;\">\n",
       "      <th></th>\n",
       "      <th>PatientId</th>\n",
       "      <th>AppointmentId</th>\n",
       "      <th>Gender</th>\n",
       "      <th>ScheduledDay</th>\n",
       "      <th>AppointmentDay</th>\n",
       "      <th>AgeGroup</th>\n",
       "      <th>Neighbourhood</th>\n",
       "      <th>Scholarship</th>\n",
       "      <th>Hypertension</th>\n",
       "      <th>Diabetes</th>\n",
       "      <th>Alcoholism</th>\n",
       "      <th>Handicap</th>\n",
       "      <th>SMS_received</th>\n",
       "      <th>No_show</th>\n",
       "      <th>dayOfWeek</th>\n",
       "      <th>daysInterval</th>\n",
       "    </tr>\n",
       "  </thead>\n",
       "  <tbody>\n",
       "    <tr>\n",
       "      <th>48754</th>\n",
       "      <td>5.349869e+11</td>\n",
       "      <td>5583947</td>\n",
       "      <td>F</td>\n",
       "      <td>2016-04-14 12:25:43</td>\n",
       "      <td>2016-05-13</td>\n",
       "      <td>5</td>\n",
       "      <td>ILHAS OCEÂNICAS DE TRINDADE</td>\n",
       "      <td>0</td>\n",
       "      <td>0</td>\n",
       "      <td>0</td>\n",
       "      <td>0</td>\n",
       "      <td>0</td>\n",
       "      <td>0</td>\n",
       "      <td>1</td>\n",
       "      <td>Friday</td>\n",
       "      <td>28</td>\n",
       "    </tr>\n",
       "    <tr>\n",
       "      <th>48765</th>\n",
       "      <td>7.256430e+12</td>\n",
       "      <td>5583948</td>\n",
       "      <td>F</td>\n",
       "      <td>2016-04-14 12:26:13</td>\n",
       "      <td>2016-05-13</td>\n",
       "      <td>5</td>\n",
       "      <td>ILHAS OCEÂNICAS DE TRINDADE</td>\n",
       "      <td>0</td>\n",
       "      <td>0</td>\n",
       "      <td>0</td>\n",
       "      <td>0</td>\n",
       "      <td>0</td>\n",
       "      <td>0</td>\n",
       "      <td>1</td>\n",
       "      <td>Friday</td>\n",
       "      <td>28</td>\n",
       "    </tr>\n",
       "  </tbody>\n",
       "</table>\n",
       "</div>"
      ],
      "text/plain": [
       "          PatientId  AppointmentId Gender        ScheduledDay AppointmentDay  \\\n",
       "48754  5.349869e+11        5583947      F 2016-04-14 12:25:43     2016-05-13   \n",
       "48765  7.256430e+12        5583948      F 2016-04-14 12:26:13     2016-05-13   \n",
       "\n",
       "       AgeGroup                Neighbourhood  Scholarship  Hypertension  \\\n",
       "48754         5  ILHAS OCEÂNICAS DE TRINDADE            0             0   \n",
       "48765         5  ILHAS OCEÂNICAS DE TRINDADE            0             0   \n",
       "\n",
       "       Diabetes  Alcoholism  Handicap  SMS_received  No_show dayOfWeek  \\\n",
       "48754         0           0         0             0        1    Friday   \n",
       "48765         0           0         0             0        1    Friday   \n",
       "\n",
       "       daysInterval  \n",
       "48754            28  \n",
       "48765            28  "
      ]
     },
     "execution_count": 22,
     "metadata": {},
     "output_type": "execute_result"
    }
   ],
   "source": [
    "df[df['Neighbourhood'].str.startswith('ILHAS')]\n"
   ]
  },
  {
   "cell_type": "markdown",
   "metadata": {},
   "source": [
    "From these results, note that we have only 2 appointments in this neighbourhood , and since other neighbourhoods have almost the same proportin, So in my opinion this (proprtion of 1) is not significant for us to make conclusions about the probabilties related to neighbourhood"
   ]
  },
  {
   "cell_type": "markdown",
   "metadata": {},
   "source": [
    "### Research Question 1.2\n",
    "- Type Of Disease: [Diabets](#diabetes), [Hypertension](#hyper), [Alcoholism](#alcohol), [Type of Handicap](#handicap)\n",
    "\n",
    "<a id='diabetes'></a>\n",
    "#### Diabetes vs. proportion(missed)"
   ]
  },
  {
   "cell_type": "code",
   "execution_count": 23,
   "metadata": {},
   "outputs": [
    {
     "name": "stdout",
     "output_type": "stream",
     "text": [
      "Diabetes\n",
      "0    0.203630\n",
      "1    0.180033\n",
      "Name: No_show, dtype: float64\n"
     ]
    },
    {
     "data": {
      "text/plain": [
       "Text(0,0.5,'Missing appointment proportion')"
      ]
     },
     "execution_count": 23,
     "metadata": {},
     "output_type": "execute_result"
    },
    {
     "data": {
      "image/png": "[encoded data removed]",
      "text/plain": [
       "<matplotlib.figure.Figure at 0x7f5448fc1ac8>"
      ]
     },
     "metadata": {
      "needs_background": "light"
     },
     "output_type": "display_data"
    }
   ],
   "source": [
    "# Diabetes: \n",
    "diabetes_groups = df.groupby('Diabetes')['No_show'].mean()\n",
    "print(diabetes_groups)\n",
    "\n",
    "diabetes_groups.plot(kind='bar', title='Proportion(Missed) - Diabets');\n",
    "plt.xlabel('Diabetes')\n",
    "plt.ylabel('Missing appointment proportion')\n"
   ]
  },
  {
   "cell_type": "markdown",
   "metadata": {},
   "source": [
    "<a id='hyper'></a>\n",
    "#### Hypertension vs. proportion(missed)"
   ]
  },
  {
   "cell_type": "code",
   "execution_count": 24,
   "metadata": {},
   "outputs": [
    {
     "name": "stdout",
     "output_type": "stream",
     "text": [
      "Hypertension\n",
      "0    0.209039\n",
      "1    0.173020\n",
      "Name: No_show, dtype: float64\n"
     ]
    },
    {
     "data": {
      "text/plain": [
       "Text(0,0.5,'Missing appointment proportion')"
      ]
     },
     "execution_count": 24,
     "metadata": {},
     "output_type": "execute_result"
    },
    {
     "data": {
      "image/png": "[encoded data removed]",
      "text/plain": [
       "<matplotlib.figure.Figure at 0x7f5449026dd8>"
      ]
     },
     "metadata": {
      "needs_background": "light"
     },
     "output_type": "display_data"
    }
   ],
   "source": [
    "# Hypertension: \n",
    "hypertension_groups = df.groupby('Hypertension')['No_show'].mean()\n",
    "print(hypertension_groups)\n",
    "\n",
    "hypertension_groups.plot(kind='bar', title='Proportion(Missed) - Hypertension');\n",
    "plt.xlabel('Hypertension')\n",
    "plt.ylabel('Missing appointment proportion')\n"
   ]
  },
  {
   "cell_type": "markdown",
   "metadata": {},
   "source": [
    "<a id='alcohol'></a>\n",
    "#### Alcoholism vs. proportion(missed)"
   ]
  },
  {
   "cell_type": "code",
   "execution_count": 25,
   "metadata": {},
   "outputs": [
    {
     "name": "stdout",
     "output_type": "stream",
     "text": [
      "Alcoholism\n",
      "0    0.201948\n",
      "1    0.201488\n",
      "Name: No_show, dtype: float64\n"
     ]
    },
    {
     "data": {
      "text/plain": [
       "Text(0,0.5,'Missing appointment proportion')"
      ]
     },
     "execution_count": 25,
     "metadata": {},
     "output_type": "execute_result"
    },
    {
     "data": {
      "image/png": "[encoded data removed]",
      "text/plain": [
       "<matplotlib.figure.Figure at 0x7f5448eaa780>"
      ]
     },
     "metadata": {
      "needs_background": "light"
     },
     "output_type": "display_data"
    }
   ],
   "source": [
    "# Alcoholism: \n",
    "alcoholism_groups = df.groupby('Alcoholism')['No_show'].mean()\n",
    "print(alcoholism_groups)\n",
    "\n",
    "alcoholism_groups.plot(kind='bar', title='Proportion(Missed) - Alcoholism');\n",
    "plt.xlabel('Alcoholism')\n",
    "plt.ylabel('Missing appointment proportion')\n"
   ]
  },
  {
   "cell_type": "markdown",
   "metadata": {},
   "source": [
    "<a id='handicap'></a>\n",
    "#### Handicap Type vs. proportion(missed)"
   ]
  },
  {
   "cell_type": "code",
   "execution_count": 26,
   "metadata": {},
   "outputs": [
    {
     "name": "stdout",
     "output_type": "stream",
     "text": [
      "Handicap\n",
      "0    0.202355\n",
      "1    0.179236\n",
      "2    0.202186\n",
      "3    0.230769\n",
      "4    0.333333\n",
      "Name: No_show, dtype: float64\n"
     ]
    },
    {
     "data": {
      "text/plain": [
       "Text(0,0.5,'Missing appointment proportion')"
      ]
     },
     "execution_count": 26,
     "metadata": {},
     "output_type": "execute_result"
    },
    {
     "data": {
      "image/png": "[encoded data removed]",
      "text/plain": [
       "<matplotlib.figure.Figure at 0x7f5448e36a58>"
      ]
     },
     "metadata": {
      "needs_background": "light"
     },
     "output_type": "display_data"
    }
   ],
   "source": [
    "# handicap: \n",
    "handicap_groups = df.groupby('Handicap')['No_show'].mean()\n",
    "print(handicap_groups)\n",
    "\n",
    "handicap_groups.plot(kind='bar', title='Proportion(Missed) - Handicap');\n",
    "plt.xlabel('Handicap')\n",
    "plt.ylabel('Missing appointment proportion')"
   ]
  },
  {
   "cell_type": "markdown",
   "metadata": {},
   "source": [
    "#### Conclusion 1.3 (Disease) \n",
    ">For Diabetes, Hypertension and Alcoholism: differences between missed and show proportions is almost zero, concluding none of these diseases has an effect on missing appointment probability.\n",
    "Handicap: From the plot we can see that patients with handicap of type 4 have the most proportion for missing appointments; while the other types have almost the same proportion.\n"
   ]
  },
  {
   "cell_type": "markdown",
   "metadata": {},
   "source": [
    "<a id='age'></a>\n",
    "### Research Question 2: Is there any relation between age group and the percentage of show-up?\n",
    "\n",
    "#### Age Groups by decades vs. proportion of missing appointment"
   ]
  },
  {
   "cell_type": "code",
   "execution_count": 27,
   "metadata": {},
   "outputs": [
    {
     "name": "stdout",
     "output_type": "stream",
     "text": [
      "AgeGroup\n",
      "0    0.199371\n",
      "1    0.251778\n",
      "2    0.246733\n",
      "3    0.217520\n",
      "4    0.202688\n",
      "5    0.174998\n",
      "6    0.150724\n",
      "7    0.152005\n",
      "8    0.157841\n",
      "9    0.203837\n",
      "Name: No_show, dtype: float64\n"
     ]
    },
    {
     "data": {
      "text/plain": [
       "Text(0,0.5,'Missing appointment proportion')"
      ]
     },
     "execution_count": 27,
     "metadata": {},
     "output_type": "execute_result"
    },
    {
     "data": {
      "image/png": "[encoded data removed]",
      "text/plain": [
       "<matplotlib.figure.Figure at 0x7f5448e4e390>"
      ]
     },
     "metadata": {
      "needs_background": "light"
     },
     "output_type": "display_data"
    }
   ],
   "source": [
    "# Age Groups: \n",
    "age_groups = df.groupby('AgeGroup')['No_show'].mean()\n",
    "print(age_groups)\n",
    "\n",
    "age_groups.plot(kind='bar', title='Proportion(Missed) - Age Groups', figsize=(15, 8));\n",
    "plt.xlabel('Age Group')\n",
    "plt.ylabel('Missing appointment proportion')\n"
   ]
  },
  {
   "cell_type": "markdown",
   "metadata": {},
   "source": [
    "<a id='c2'></a>\n",
    "### Conclusion 2: Age Group\n",
    "From results above, Histogram is almot left-sided, patients in sixties, seventies and eighties have less proportions than others who are younger, we can conclude: \n",
    "> Older patients have less proportions for missing appointments <br/> Young patienties(10 - 40) have more proportions for missing appointments *(May be they have busy lives and they think they still have time for health!! NOTE: This just a thought and NOT a conclusion, we CAN'T have this result from our data)* "
   ]
  },
  {
   "cell_type": "markdown",
   "metadata": {},
   "source": [
    "<a id='dayweek'></a>\n",
    "### Research Question 3: Does the day of the week for appointment affect the showness\n",
    "\n",
    "#### Day Of Week vs. Proportion(missed)\n"
   ]
  },
  {
   "cell_type": "code",
   "execution_count": 28,
   "metadata": {},
   "outputs": [
    {
     "name": "stdout",
     "output_type": "stream",
     "text": [
      "dayOfWeek\n",
      "Friday       0.212261\n",
      "Monday       0.206481\n",
      "Saturday     0.230769\n",
      "Thursday     0.193541\n",
      "Tuesday      0.200936\n",
      "Wednesday    0.196892\n",
      "Name: No_show, dtype: float64\n"
     ]
    },
    {
     "data": {
      "text/plain": [
       "Text(0,0.5,'Missing appointment proportion')"
      ]
     },
     "execution_count": 28,
     "metadata": {},
     "output_type": "execute_result"
    },
    {
     "data": {
      "image/png": "[encoded data removed]",
      "text/plain": [
       "<matplotlib.figure.Figure at 0x7f5448dcec18>"
      ]
     },
     "metadata": {
      "needs_background": "light"
     },
     "output_type": "display_data"
    }
   ],
   "source": [
    "# Day of Week: \n",
    "dayOfWeek_groups = df.groupby('dayOfWeek')['No_show'].mean()\n",
    "print(dayOfWeek_groups)\n",
    "\n",
    "dayOfWeek_groups.plot(kind='bar', title='Proportion(Missed) - Day Of Week', figsize=(15, 8));\n",
    "plt.xlabel('Day Of Week')\n",
    "plt.ylabel('Missing appointment proportion')"
   ]
  },
  {
   "cell_type": "markdown",
   "metadata": {},
   "source": [
    "<a id='daysinterval'></a>\n",
    "### Research Question 4: Does the time interval between scheduling and appointment day affect the percentage of show-up?\n",
    "\n",
    "#### Days between scheduling and appointment days"
   ]
  },
  {
   "cell_type": "code",
   "execution_count": 29,
   "metadata": {},
   "outputs": [
    {
     "name": "stdout",
     "output_type": "stream",
     "text": [
      "daysInterval\n",
      "0      0.213505\n",
      "1      0.074944\n",
      "2      0.236410\n",
      "3      0.232703\n",
      "4      0.266097\n",
      "5      0.247956\n",
      "6      0.266816\n",
      "7      0.287613\n",
      "8      0.274143\n",
      "9      0.316319\n",
      "10     0.316109\n",
      "11     0.316592\n",
      "12     0.318668\n",
      "13     0.313423\n",
      "14     0.333999\n",
      "15     0.304952\n",
      "16     0.316170\n",
      "17     0.305583\n",
      "18     0.347701\n",
      "19     0.343724\n",
      "20     0.308974\n",
      "21     0.344416\n",
      "22     0.335766\n",
      "23     0.377814\n",
      "24     0.401884\n",
      "25     0.359781\n",
      "26     0.315893\n",
      "27     0.294842\n",
      "28     0.326905\n",
      "29     0.265625\n",
      "         ...   \n",
      "100    0.000000\n",
      "101    0.250000\n",
      "102    0.600000\n",
      "103    0.750000\n",
      "104    0.000000\n",
      "106    0.000000\n",
      "107    0.000000\n",
      "108    0.000000\n",
      "109    0.500000\n",
      "110    0.200000\n",
      "111    0.000000\n",
      "114    0.000000\n",
      "116    0.000000\n",
      "118    0.000000\n",
      "121    0.000000\n",
      "122    0.000000\n",
      "124    0.000000\n",
      "125    1.000000\n",
      "126    0.000000\n",
      "131    1.000000\n",
      "132    0.363636\n",
      "138    1.000000\n",
      "141    0.375000\n",
      "145    1.000000\n",
      "150    1.000000\n",
      "154    0.600000\n",
      "161    0.181818\n",
      "168    0.125000\n",
      "175    0.375000\n",
      "178    0.200000\n",
      "Name: No_show, Length: 128, dtype: float64\n"
     ]
    },
    {
     "data": {
      "text/plain": [
       "Text(0,0.5,'Missing appointment proportion')"
      ]
     },
     "execution_count": 29,
     "metadata": {},
     "output_type": "execute_result"
    },
    {
     "data": {
      "image/png": "[encoded data removed]",
      "text/plain": [
       "<matplotlib.figure.Figure at 0x7f5448d4e780>"
      ]
     },
     "metadata": {
      "needs_background": "light"
     },
     "output_type": "display_data"
    }
   ],
   "source": [
    "# Days Interval: \n",
    "daysInterval_groups = df.groupby('daysInterval')['No_show'].mean()\n",
    "print(daysInterval_groups)\n",
    "\n",
    "daysInterval_groups.plot(kind='bar', title='Proportion(Missed) - Days Interval', figsize=(15, 8));\n",
    "plt.xlabel('Days Interval')\n",
    "plt.ylabel('Missing appointment proportion')"
   ]
  },
  {
   "cell_type": "code",
   "execution_count": 30,
   "metadata": {},
   "outputs": [
    {
     "data": {
      "text/plain": [
       "Text(0,0.5,'Missing appointment proportion')"
      ]
     },
     "execution_count": 30,
     "metadata": {},
     "output_type": "execute_result"
    },
    {
     "data": {
      "image/png": "[encoded data removed]",
      "text/plain": [
       "<matplotlib.figure.Figure at 0x7f54444540b8>"
      ]
     },
     "metadata": {
      "needs_background": "light"
     },
     "output_type": "display_data"
    }
   ],
   "source": [
    "# Again Plot Relation between days interval between schedule day and appointment day \n",
    "#this time using line chart to spot type of this relation\n",
    "# Days Interval: \n",
    "daysInterval_groups.plot(kind='line', title='Proportion(Missed) - Days Interval', figsize=(15, 8));\n",
    "plt.xlabel('Days Interval')\n",
    "plt.ylabel('Missing appointment proportion')\n"
   ]
  },
  {
   "cell_type": "markdown",
   "metadata": {},
   "source": [
    "<a id='conclusion'></a>\n",
    "## Conclusions\n",
    "\n",
    "### Limitations\n",
    "1- Many features data has been collected that can't be a predictor for this study (Probability of show-up per appointment), \n",
    "I think there are some features that can be more predictable like, maritual status and number of kids, whether the patient is employed, doctor speciality, and may be appointment reason (follow up, checkup or having disease to cure)\n",
    "\n",
    "2- Through our data analysis here some data grouping result in small smaples that may increase the errornous in conclusions and predictions, This can be solved by doing the study for bigger data set may be for a year instead of one month will enable us to have more precise conclusions and predictions, Such as :<br/>\n",
    "Neighbourhood: There 81 different neighbourhood with only (Name providedwith data type: Object), which makes it hard or even impossible to make groups, grouping here resulted in very small samples(some neighbourhood has only 2 entries from all 110527 entries) so the data seems like incionsistent, with this type of data, the comparison between neighbourhoods will be meaningless, I suggest to provide groups may be by city will give more predictable data \n",
    "\n",
    "\n",
    "<a id='c1'></a>\n",
    "#### 1.1: Gender, Scholarship, SMS_recieved\n",
    "> About which feature could affect the proportion of missing appointment(p_miss):<br/>\n",
    "1- Gender: We can conclude that there is no relation since the proportion of missed appointments for both males and females are almost equals\n",
    "2- Scholarship: p_miss for value 1 (patient has a scholarship) is higher than others.\n",
    "3- SMS_received: p_miss for patients who has a message is surprisingly higher than  p_miss for those who don't, *(Hypothesis(Not proved): Sending message doesn't help!, Note: This is just a thought NOT a conclusion)*\n",
    "\n",
    "#### 1.2: Neigbourhood\n",
    ">Looking at the plot we notice that almost all the proportions between 0.12 and 0.25, more deeply digging needed here to make good conclusions, collecting region data in a different way will help much.\n",
    "\n",
    "\n",
    "#### 1.3 (Disease) \n",
    ">For Diabetes, Hypertension and Alcoholism: differences between missed and show proportions is almost zero, concluding none of these diseases has an effect on missing appointment probability.\n",
    "Handicap: From the plot we can see that patients with handicap of type 4 have the most proportion for missing appointments; while the other types have almost the same proportion.\n",
    "\n",
    "### 2: Age Group\n",
    ">From results above, Histogram is almot left-sided, patients in sixties, seventies and eighties have less proportions than others who are younger, we can conclude:\n",
    "\n",
    ">Older patients have less proportions for missing appointments \n",
    "Young patienties(10 - 40) have more proportions for missing appointments (May be they have busy lives and they think they still have time for health!! NOTE: This just a thought and NOT a conclusion, we CAN'T have this result from our data)\n",
    "\n",
    "### 3: Day of week\n",
    "> Weekends(Friday and Saturday) have higher proportion of missing appointments \n",
    "\n",
    "\n",
    "### 4: Time between Schedule day and Appointment Day\n",
    "\n",
    "> From results and plot above we can see that appointments with scheduled day before (more than 120 days) from appointment have almost 1 proportion (=100%) of missing appointments\n"
   ]
  },
  {
   "cell_type": "markdown",
   "metadata": {},
   "source": [
    "\n"
   ]
  },
  {
   "cell_type": "code",
   "execution_count": 31,
   "metadata": {},
   "outputs": [
    {
     "data": {
      "text/plain": [
       "0"
      ]
     },
     "execution_count": 31,
     "metadata": {},
     "output_type": "execute_result"
    }
   ],
   "source": [
    "from subprocess import call\n",
    "call(['python', '-m', 'nbconvert', 'Investigate_a_Dataset.ipynb'])"
   ]
  }
 ],
 "metadata": {
  "kernelspec": {
   "display_name": "Python 3",
   "language": "python",
   "name": "python3"
  },
  "language_info": {
   "codemirror_mode": {
    "name": "ipython",
    "version": 3
   },
   "file_extension": ".py",
   "mimetype": "text/x-python",
   "name": "python",
   "nbconvert_exporter": "python",
   "pygments_lexer": "ipython3",
   "version": "3.6.3"
  }
 },
 "nbformat": 4,
 "nbformat_minor": 2
}
