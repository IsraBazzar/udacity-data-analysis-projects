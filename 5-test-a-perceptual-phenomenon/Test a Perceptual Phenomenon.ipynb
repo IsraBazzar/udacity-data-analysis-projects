{
 "cells": [
  {
   "cell_type": "markdown",
   "metadata": {},
   "source": [
    "# Analyzing the Stroop Effect\n",
    "#### By Isra Bazzar: Project done for Udacity data analysis Nanodegree\n",
    "<br/><br/>\n",
    "<span style=\"color:#aaa\">\n",
    "Perform the analysis in the space below. Remember to follow [the instructions](https://docs.google.com/document/d/1-OkpZLjG_kX9J6LIQ5IltsqMzVWjh36QpnP2RYpVdPU/pub?embedded=True) and review the [project rubric](https://review.udacity.com/#!/rubrics/71/view) before submitting. Once you've completed the analysis and write-up, download this file as a PDF or HTML file, upload that PDF/HTML into the workspace here (click on the orange Jupyter icon in the upper left then Upload), then use the Submit Project button at the bottom of this page. This will create a zip file containing both this .ipynb doc and the PDF/HTML doc that will be submitted for your project.</span>\n",
    "\n",
    "\n",
    "### (1) What is the independent variable? What is the dependent variable?"
   ]
  },
  {
   "cell_type": "markdown",
   "metadata": {},
   "source": [
    "First of all; our study here will be a dependent t-test for (two conditions sample), i.e. each participant has two entries in the sample one for each condition, So this study will investigate the differences between congruent and incongruent records.\n",
    "\n",
    "The dependent variable- outcome: is the one we are studying( records for each participant)\n",
    "The independent variable- predictor: in our study here it's the type of words: congruent or incongruent) "
   ]
  },
  {
   "cell_type": "markdown",
   "metadata": {},
   "source": [
    "### (2) What is an appropriate set of hypotheses for this task? Specify your null and alternative hypotheses, and clearly define any notation used. Justify your choices."
   ]
  },
  {
   "cell_type": "markdown",
   "metadata": {},
   "source": [
    "According to the described variables, in this study we'll investigate how the type of words will affect the time record (Stroop effect)\n",
    "<br/>\n",
    "<b>Assumption:</b> the time record for congruent will be less than records for incongruent words, For this analysis we will try to prove this by assuming that the difference between the two records is zero(null hypothesis), and then we will reject this assumption using paired t- test  \n",
    "\n",
    "<b> The null hypotheses(H0):</b> the mean of difference(Md) between time records for congruent records for incongruent is Zero\n",
    "<br/>     <b>H0 : Md = 0</b>\n",
    "\n",
    "<b>The alternative Hypothesis(HA) - which we hope to prove:</b> the mean difference between the time records for congruent words(Mc) will be incongruent(Mi) will ba greater than zero, \n",
    "<br/>      <b>HA: Md > 0</b>\n"
   ]
  },
  {
   "cell_type": "markdown",
   "metadata": {},
   "source": [
    "### (3) Report some descriptive statistics regarding this dataset. Include at least one measure of central tendency and at least one measure of variability. The name of the data file is 'stroopdata.csv'."
   ]
  },
  {
   "cell_type": "code",
   "execution_count": 18,
   "metadata": {},
   "outputs": [
    {
     "name": "stdout",
     "output_type": "stream",
     "text": [
      "Incongruent records:\n",
      " MI =  22.02 , SDI =  4.8\n",
      "Congruent records:\n",
      " MC =  14.05 , SDC =  3.56\n",
      "Difference:\n",
      " Difference Mean =  7.97 ,Difference standard deviation =  4.86\n",
      " Standard Error of the mean difference =  0.99\n"
     ]
    }
   ],
   "source": [
    "import statistics\n",
    "import math\n",
    "import csv\n",
    "\n",
    "with open('stroopdata.csv') as csvfile:\n",
    "    data = csv.reader(csvfile)\n",
    "    incongruent = []\n",
    "    congruent = []\n",
    "    difference = []\n",
    "    \n",
    "    first_row = next(data) # this is to neglect the first row since it's column names \n",
    "    for row in data:\n",
    "        #Incongruent time record\n",
    "        xi = float(row[1])\n",
    "        #Congruent time record\n",
    "        xc = float(row[0])\n",
    "\n",
    "        incongruent.append(xi)\n",
    "        congruent.append(xc)\n",
    "        \n",
    "        # Find the difference for each entry \n",
    "        difference.append(xi - xc)\n",
    "\n",
    "    # Measure Of Center Tendency  \n",
    "    #find the sample mean for incongruent and congruent and round it to 2 decimal places\n",
    "    MI = round(statistics.mean(incongruent), 2)\n",
    "    MC = round(statistics.mean(congruent), 2)\n",
    "    # Find the difference mean\n",
    "    MD = round((MI - MC), 2)\n",
    "\n",
    "    # Measure Of Spread\n",
    "    #find the sample standard deviation for incongruent and congruent sample and round it to 2 decimal places\n",
    "    SDI = round(statistics.stdev(incongruent), 2)\n",
    "    SDC = round(statistics.stdev(congruent), 2)\n",
    "    SDD = round(statistics.stdev(difference), 2)\n",
    "    \n",
    "    #calculate the standard deviation of the mean difference\n",
    "    n = 24\n",
    "    SE = round(SDD / math.sqrt(n), 2)\n",
    "    #print results\n",
    "    print(\"Incongruent records:\\n MI = \", str(MI), \", SDI = \", str(SDI))\n",
    "    print(\"Congruent records:\\n MC = \", str(MC), \", SDC = \", str(SDC))\n",
    "    \n",
    "    print(\"Difference:\\n Difference Mean = \", str(MD), \",Difference standard deviation = \", str(SDD))\n",
    "    print(\" Standard Error of the mean difference = \", str(SE))\n",
    "    \n",
    "   "
   ]
  },
  {
   "cell_type": "markdown",
   "metadata": {},
   "source": [
    "### (4) Provide one or two visualizations that show the distribution of the sample data. Write one or two sentences noting what you observe about the plot or plots."
   ]
  },
  {
   "cell_type": "code",
   "execution_count": 20,
   "metadata": {},
   "outputs": [
    {
     "data": {
      "image/png": "[encoded data removed]",
      "text/plain": [
       "<matplotlib.figure.Figure at 0x7f724df53f28>"
      ]
     },
     "metadata": {
      "needs_background": "light"
     },
     "output_type": "display_data"
    }
   ],
   "source": [
    "# Build the visualizations here\n",
    "import matplotlib.pyplot as plt\n",
    "\n",
    "\n",
    "plt.hist([incongruent, congruent],bins=int(50/3), range=(0,50), label=['Incongruent time records', 'Congruent time records'])\n",
    "plt.legend(loc='upper right')\n",
    "\n",
    "plt.title('Distribution of Stroop data')\n",
    "plt.xlabel('time (s)')\n",
    "plt.show()\n"
   ]
  },
  {
   "cell_type": "markdown",
   "metadata": {},
   "source": [
    "As shown above; I have implemented the stroop test data using a histogram with bin size = 3, \n",
    "looking at the distribution of both data we can notice the following:\n",
    "\n",
    "-The shape for both distributions is almost the same, and it's almost left sided histogram <br/><br/>\n",
    "\n",
    "-The center for blue distribution(Incongruent records) is almost bigger than the orange(congruent) distribution's center, which may be means that we will reject the null hypothesis if this diffirence is significant;\n",
    "Below we will investigate this using numbers to see if we will reject or retain the null hypothesis\n"
   ]
  },
  {
   "cell_type": "markdown",
   "metadata": {},
   "source": [
    "### (5)  Now, perform the statistical test and report your results. What is your confidence level or Type I error associated with your test? What is your conclusion regarding the hypotheses you set up? Did the results match up with your expectations? **Hint:**  Think about what is being measured on each individual, and what statistic best captures how an individual reacts in each environment."
   ]
  },
  {
   "cell_type": "code",
   "execution_count": 22,
   "metadata": {},
   "outputs": [
    {
     "name": "stdout",
     "output_type": "stream",
     "text": [
      "t(Md) =  8.05050505050505\n"
     ]
    }
   ],
   "source": [
    "# Perform the statistical test here \n",
    "# Paired t-Test \n",
    "\n",
    "t = MD / SE\n",
    "print(\"t(Md) = \",str(t))"
   ]
  },
  {
   "cell_type": "markdown",
   "metadata": {},
   "source": [
    "Since we don't have the population data, and it's only a sample to be investigated, <b>double t-Test</b> is the choice.\n",
    "\n",
    "Selecting alpha level (a = 0.05); <br/> since sample size(n) = 24 >> Degrees of freedom = n-1 = 23 <br/> Using t-table, we got <b>critical t = 2.069 </b>\n",
    "\n",
    "For Md(Mu for differences) --> t = Md / SE = 8.051\n",
    "\n",
    "##### Conclusion\n",
    "<b>t Value of 8.051 is too way bigger than the t critical value(2.069) \n",
    "<br/> \n",
    "    Calculating P-value for t=8.051 and  DF=23   \n",
    "    <span style=\" color:red\">The two-tailed P value is less than 0.0001 </span>\n",
    "   By conventional criteria(comparing to our alpha = 0.05), this difference is considered to be extremely statistically significant. \n",
    " > which proves that we can surely reject the null hypothesis, and proves our assumption described above(The stroop effect)\n",
    "    --> In other words: In general, Most probably One person will record less time to say loud the color word ink with congruent words than with incongruent words</b> \n"
   ]
  },
  {
   "cell_type": "markdown",
   "metadata": {},
   "source": [
    "### (6) Optional: What do you think is responsible for the effects observed? Can you think of an alternative or similar task that would result in a similar effect? Some research about the problem will be helpful for thinking about these two questions!"
   ]
  },
  {
   "cell_type": "markdown",
   "metadata": {},
   "source": [
    "Okay, based on the project title I think it's the perceptual phenomenon ;) But doing some search this phenomenon can be described by the statement(Seeing is decieving), it discusses the psychology illusions and it's effect on decisions and conclusions that human's mind make. [source 1](https://science.sciencemag.org/content/204/4400/1402.1)\n",
    "\n",
    "\"A perceptual illusion differs from a strictly optical illusion, which is essentially an image that contains conflicting data that causes you to perceive the image in a way that differs from reality. Optical illusions typically work by using certain visual tricks that exploit certain assumptions within human perception -- in essence, the image itself is the illusion. A perceptual illusion, however, is not an optical phenomenon, but rather a cognitive one. The illusion occurs in the way your brain processes the visual data you transmit to your brain.\" [source 2](https://sciencing.com/perceptual-illusions-8378599.html)\n",
    "\n",
    "\n",
    "\n"
   ]
  }
 ],
 "metadata": {
  "kernelspec": {
   "display_name": "Python 3",
   "language": "python",
   "name": "python3"
  },
  "language_info": {
   "codemirror_mode": {
    "name": "ipython",
    "version": 3
   },
   "file_extension": ".py",
   "mimetype": "text/x-python",
   "name": "python",
   "nbconvert_exporter": "python",
   "pygments_lexer": "ipython3",
   "version": "3.6.3"
  }
 },
 "nbformat": 4,
 "nbformat_minor": 2
}
